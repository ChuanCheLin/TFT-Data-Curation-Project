{
 "cells": [
  {
   "cell_type": "code",
   "execution_count": null,
   "metadata": {},
   "outputs": [],
   "source": [
    "# 📌 Imports and project paths\n",
    "from pathlib import Path\n",
    "import tarfile, json, requests, pandas as pd\n",
    "\n",
    "# Define project paths\n",
    "PROJ_ROOT = Path.cwd().parent\n",
    "RAW_DIR = PROJ_ROOT / \"raw\"\n",
    "CURATED_DIR = PROJ_ROOT / \"curated\"\n",
    "RAW_DIR.mkdir(exist_ok=True)\n",
    "\n",
    "# Version setting\n",
    "VERSION = \"15.7\"\n",
    "TGZ_URL = f\"https://ddragon.leagueoflegends.com/cdn/dragontail-{VERSION}.tgz\"\n",
    "TGZ_PATH = RAW_DIR / f\"ddragon_{VERSION}.tgz\"\n",
    "DD_JSON_DIR = RAW_DIR / f\"dd_{VERSION}\"\n"
   ]
  }
 ],
 "metadata": {
  "language_info": {
   "name": "python"
  }
 },
 "nbformat": 4,
 "nbformat_minor": 2
}
