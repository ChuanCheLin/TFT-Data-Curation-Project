{
 "cells": [
  {
   "cell_type": "code",
   "execution_count": 14,
   "metadata": {},
   "outputs": [],
   "source": [
    "import requests\n",
    "import json\n",
    "import pandas as pd\n",
    "from tqdm import tqdm"
   ]
  },
  {
   "cell_type": "code",
   "execution_count": 18,
   "metadata": {},
   "outputs": [],
   "source": [
    "# Riot API Key\n",
    "API_KEY = \"RGAPI-6e397df8-7dc5-49ec-85db-203cb6fd01b5\"\n",
    "\n",
    "GAME_NAME = \"SkywalkerLin\"\n",
    "TAG_LINE = \"na1\"\n",
    "\n",
    "# Base URLs for Riot API\n",
    "ACCOUNT_URL = \"https://americas.api.riotgames.com/riot/account/v1/accounts/by-riot-id/{gameName}/{tagLine}\"\n",
    "MATCHLIST_URL = \"https://americas.api.riotgames.com/tft/match/v1/matches/by-puuid/{puuid}/ids?count={count}\"\n",
    "MATCH_URL = \"https://americas.api.riotgames.com/tft/match/v1/matches/{match_id}\"\n",
    "\n",
    "# Function to get Summoner PUUID\n",
    "def get_summoner_puuid(game_name, tag_line):\n",
    "    url = ACCOUNT_URL.format(gameName=game_name, tagLine=tag_line) + f\"?api_key={API_KEY}\"\n",
    "    response = requests.get(url)\n",
    "    if response.status_code == 200:\n",
    "        return response.json()[\"puuid\"]\n",
    "    else:\n",
    "        print(\"Error fetching PUUID:\", response.json())\n",
    "        return None\n",
    "\n",
    "# Function to fetch match IDs\n",
    "def get_match_ids(puuid, count=5):\n",
    "    url = MATCHLIST_URL.format(puuid=puuid, count=count) + f\"&api_key={API_KEY}\"\n",
    "    response = requests.get(url)\n",
    "    if response.status_code == 200:\n",
    "        return response.json()\n",
    "    else:\n",
    "        print(\"Error fetching match IDs:\", response.json())\n",
    "        return []\n",
    "\n",
    "# Function to fetch match details\n",
    "def get_match_details(match_id):\n",
    "    url = MATCH_URL.format(match_id=match_id) + f\"?api_key={API_KEY}\"\n",
    "    response = requests.get(url)\n",
    "    if response.status_code == 200:\n",
    "        return response.json()\n",
    "    else:\n",
    "        print(\"Error fetching match details for\", match_id, response.json())\n",
    "        return None"
   ]
  },
  {
   "cell_type": "code",
   "execution_count": 20,
   "metadata": {},
   "outputs": [
    {
     "name": "stdout",
     "output_type": "stream",
     "text": [
      "PUUID for SkywalkerLin#na1: rC9fkNsc87GwPDWnjQugEwcbmONnmQM7nKHt9O1thwtLKeVjRh4xMta5sUbAhFrmVIU6DVAIqMQJLw\n",
      "Match IDs: ['NA1_5198806071', 'NA1_5198065321', 'NA1_5197757805', 'NA1_5196504135', 'NA1_5196494117']\n"
     ]
    },
    {
     "name": "stderr",
     "output_type": "stream",
     "text": [
      "Fetching Matches: 100%|█████████████████████████████████████████████████████████████████████████████████████████████████████████████████████████████████████████████████████| 5/5 [00:00<00:00,  5.01it/s]\n"
     ]
    },
    {
     "name": "stdout",
     "output_type": "stream",
     "text": [
      "Match data saved to 'tft_matches.json'\n",
      "   gold_left  last_round  level  placement  players_eliminated  \\\n",
      "0          1          31      9          4                   1   \n",
      "1          1          28      8          6                   0   \n",
      "2          0          28      8          7                   0   \n",
      "3         14          26      8          8                   0   \n",
      "4         25          33      8          3                   2   \n",
      "\n",
      "                                               puuid riotIdGameName  \\\n",
      "0  xM8sDavlCWvZGttgyCg_rYl3X-JexM8p38hkgM9QJ2zKF9...         Myukii   \n",
      "1  rC9fkNsc87GwPDWnjQugEwcbmONnmQM7nKHt9O1thwtLKe...   SkywalkerLin   \n",
      "2  G9dj93rIWK1AjZkpcNfOfxUkm15Zr324RbJbRZMIiZoX6i...           Regi   \n",
      "3  Rwmq5oBepy7RpkHJr1AEiTC0CSP0XvuCSvaFZ-557LwRRa...   minimalnebby   \n",
      "4  AQsAcU398Spn-88O743J35zpehFh94F_pIx6bD6GQz7A4b...      adcqueenn   \n",
      "\n",
      "  riotIdTagline  time_eliminated  total_damage_to_players  \\\n",
      "0           NA1      1780.857422                       67   \n",
      "1           NA1      1624.468140                       53   \n",
      "2          0529      1614.816162                       53   \n",
      "3           Pew      1479.178955                       35   \n",
      "4           NA1      1889.263794                       86   \n",
      "\n",
      "                                              traits  \\\n",
      "0  [{'name': 'TFT13_Ambassador', 'num_units': 1, ...   \n",
      "1  [{'name': 'TFT13_Academy', 'num_units': 1, 'st...   \n",
      "2  [{'name': 'TFT13_Challenger', 'num_units': 3, ...   \n",
      "3  [{'name': 'TFT13_Ambusher', 'num_units': 1, 's...   \n",
      "4  [{'name': 'TFT13_Ambassador', 'num_units': 1, ...   \n",
      "\n",
      "                                               units    win  \\\n",
      "0  [{'character_id': 'TFT13_Darius', 'itemNames':...   True   \n",
      "1  [{'character_id': 'TFT13_Draven', 'itemNames':...  False   \n",
      "2  [{'character_id': 'TFT13_Amumu', 'itemNames': ...  False   \n",
      "3  [{'character_id': 'TFT13_Darius', 'itemNames':...  False   \n",
      "4  [{'character_id': 'TFT13_Vladimir', 'itemNames...   True   \n",
      "\n",
      "                   companion.content_ID  companion.item_ID  companion.skin_ID  \\\n",
      "0  9a47370e-768c-49e2-9b45-7ba09527f910              84001                  1   \n",
      "1  cefc451a-9c00-40cd-9c04-fbf50d8ddf7a              27042                 42   \n",
      "2  2f15445b-5df2-4996-a743-f43d4e95d336              76002                  2   \n",
      "3  d6849cfc-48fc-4b7b-b99b-6f1971635a68             100002                  2   \n",
      "4  b8786c5c-d469-461d-b2c9-2e8baaff0966              85001                  1   \n",
      "\n",
      "     companion.species  missions.PlayerScore2  \n",
      "0  PetChibiMissFortune                    178  \n",
      "1            PetChoncc                     81  \n",
      "2         PetChibiSona                     81  \n",
      "3      PetChibiCaitlyn                     74  \n",
      "4         PetChibiLulu                    188  \n"
     ]
    }
   ],
   "source": [
    "# Get PUUID\n",
    "puuid = get_summoner_puuid(GAME_NAME, TAG_LINE)\n",
    "if puuid:\n",
    "    print(f\"PUUID for {GAME_NAME}#{TAG_LINE}: {puuid}\")\n",
    "    \n",
    "    # Get Match IDs\n",
    "    match_ids = get_match_ids(puuid, count=5)\n",
    "    print(\"Match IDs:\", match_ids)\n",
    "    \n",
    "    # Get Match Details\n",
    "    match_data_list = []\n",
    "    for match_id in tqdm(match_ids, desc=\"Fetching Matches\"):\n",
    "        match_data = get_match_details(match_id)\n",
    "        if match_data:\n",
    "            match_data_list.append(match_data)\n",
    "    \n",
    "    # Save raw data to JSON file\n",
    "    with open(\"tft_matches.json\", \"w\", encoding=\"utf-8\") as f:\n",
    "        json.dump(match_data_list, f, indent=2)\n",
    "    \n",
    "    print(\"Match data saved to 'tft_matches.json'\")\n",
    "    \n",
    "    # Convert to Pandas DataFrame for analysis\n",
    "    df = pd.json_normalize(match_data_list, record_path=['info', 'participants'])\n",
    "    print(df.head())  # Display first few rows of processed data\n",
    "else:\n",
    "    print(\"Failed to retrieve PUUID. Check API Key and Riot ID.\")\n"
   ]
  },
  {
   "cell_type": "code",
   "execution_count": null,
   "metadata": {},
   "outputs": [],
   "source": []
  }
 ],
 "metadata": {
  "kernelspec": {
   "display_name": "Python 3 (ipykernel)",
   "language": "python",
   "name": "python3"
  },
  "language_info": {
   "codemirror_mode": {
    "name": "ipython",
    "version": 3
   },
   "file_extension": ".py",
   "mimetype": "text/x-python",
   "name": "python",
   "nbconvert_exporter": "python",
   "pygments_lexer": "ipython3",
   "version": "3.12.3"
  }
 },
 "nbformat": 4,
 "nbformat_minor": 4
}
